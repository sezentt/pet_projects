{
 "cells": [
  {
   "cell_type": "markdown",
   "id": "2701fcd6",
   "metadata": {
    "papermill": {
     "duration": 0.00383,
     "end_time": "2025-09-16T11:00:23.709237",
     "exception": false,
     "start_time": "2025-09-16T11:00:23.705407",
     "status": "completed"
    },
    "tags": []
   },
   "source": [
    "# Binary Classification with a Bank Dataset"
   ]
  },
  {
   "cell_type": "markdown",
   "id": "d67c8e84",
   "metadata": {
    "papermill": {
     "duration": 0.002966,
     "end_time": "2025-09-16T11:00:23.715753",
     "exception": false,
     "start_time": "2025-09-16T11:00:23.712787",
     "status": "completed"
    },
    "tags": []
   },
   "source": [
    "**Goal**:<br>\n",
    "Our goal is to predict whether a client will subscribe to a bank term deposit. Main metric - ROC AUC."
   ]
  },
  {
   "cell_type": "markdown",
   "id": "c9f8bcbf",
   "metadata": {
    "papermill": {
     "duration": 0.002866,
     "end_time": "2025-09-16T11:00:23.721855",
     "exception": false,
     "start_time": "2025-09-16T11:00:23.718989",
     "status": "completed"
    },
    "tags": []
   },
   "source": [
    "**Data Description**:\n",
    "- `age`: Age of the client (numeric)\n",
    "- `job`: Type of job (categorical: \"admin.\", \"blue-collar\", \"entrepreneur\", etc.)\n",
    "- `marital`: Marital status (categorical: \"married\", \"single\", \"divorced\")\n",
    "- `education`: Level of education (categorical: \"primary\", \"secondary\", \"tertiary\", \"unknown\")\n",
    "- `default`: Has credit in default? (categorical: \"yes\", \"no\")\n",
    "- `balance`: Average yearly balance in euros (numeric)\n",
    "- `housing`: Has a housing loan? (categorical: \"yes\", \"no\")\n",
    "- `loan`: Has a personal loan? (categorical: \"yes\", \"no\")\n",
    "- `contact`: Type of communication contact (categorical: \"unknown\", \"telephone\", \"cellular\")\n",
    "- `day`: Last contact day of the month (numeric, 1-31)\n",
    "- `month`: Last contact month of the year (categorical: \"jan\", \"feb\", \"mar\", …, \"dec\")\n",
    "- `duration`: Last contact duration in seconds (numeric)\n",
    "- `campaign`: Number of contacts performed during this campaign (numeric)\n",
    "- `pdays`: Number of days since the client was last contacted from a previous campaign (numeric; -1 means the client was not - previously contacted)\n",
    "- `previous`: Number of contacts performed before this campaign (numeric)\n",
    "- `poutcome`: Outcome of the previous marketing campaign (categorical: \"unknown\", \"other\", \"failure\", \"success\")\n",
    "- `y`: The target variable, whether the client subscribed to a term deposit (binary: \"yes\", \"no\")"
   ]
  },
  {
   "cell_type": "code",
   "execution_count": 1,
   "id": "005daa62",
   "metadata": {
    "_cell_guid": "b1076dfc-b9ad-4769-8c92-a6c4dae69d19",
    "_uuid": "8f2839f25d086af736a60e9eeb907d3b93b6e0e5",
    "execution": {
     "iopub.execute_input": "2025-09-16T11:00:23.729502Z",
     "iopub.status.busy": "2025-09-16T11:00:23.729213Z",
     "iopub.status.idle": "2025-09-16T11:00:25.576360Z",
     "shell.execute_reply": "2025-09-16T11:00:25.575292Z"
    },
    "papermill": {
     "duration": 1.852913,
     "end_time": "2025-09-16T11:00:25.578015",
     "exception": false,
     "start_time": "2025-09-16T11:00:23.725102",
     "status": "completed"
    },
    "tags": []
   },
   "outputs": [
    {
     "name": "stdout",
     "output_type": "stream",
     "text": [
      "/kaggle/input/playground-series-s5e8/sample_submission.csv\n",
      "/kaggle/input/playground-series-s5e8/train.csv\n",
      "/kaggle/input/playground-series-s5e8/test.csv\n"
     ]
    }
   ],
   "source": [
    "# This Python 3 environment comes with many helpful analytics libraries installed\n",
    "# It is defined by the kaggle/python Docker image: https://github.com/kaggle/docker-python\n",
    "# For example, here's several helpful packages to load\n",
    "\n",
    "import numpy as np # linear algebra\n",
    "import pandas as pd # data processing, CSV file I/O (e.g. pd.read_csv)\n",
    "\n",
    "# Input data files are available in the read-only \"../input/\" directory\n",
    "# For example, running this (by clicking run or pressing Shift+Enter) will list all files under the input directory\n",
    "\n",
    "import os\n",
    "for dirname, _, filenames in os.walk('/kaggle/input'):\n",
    "    for filename in filenames:\n",
    "        print(os.path.join(dirname, filename))\n",
    "\n",
    "# You can write up to 20GB to the current directory (/kaggle/working/) that gets preserved as output when you create a version using \"Save & Run All\" \n",
    "# You can also write temporary files to /kaggle/temp/, but they won't be saved outside of the current session"
   ]
  },
  {
   "cell_type": "markdown",
   "id": "41301ecc",
   "metadata": {
    "papermill": {
     "duration": 0.002936,
     "end_time": "2025-09-16T11:00:25.584271",
     "exception": false,
     "start_time": "2025-09-16T11:00:25.581335",
     "status": "completed"
    },
    "tags": []
   },
   "source": [
    "## Загрузка и просмотр данных"
   ]
  },
  {
   "cell_type": "code",
   "execution_count": 2,
   "id": "22a59b24",
   "metadata": {
    "execution": {
     "iopub.execute_input": "2025-09-16T11:00:25.592031Z",
     "iopub.status.busy": "2025-09-16T11:00:25.591590Z",
     "iopub.status.idle": "2025-09-16T11:00:32.959267Z",
     "shell.execute_reply": "2025-09-16T11:00:32.958095Z"
    },
    "papermill": {
     "duration": 7.373588,
     "end_time": "2025-09-16T11:00:32.961051",
     "exception": false,
     "start_time": "2025-09-16T11:00:25.587463",
     "status": "completed"
    },
    "tags": []
   },
   "outputs": [],
   "source": [
    "# === Импорты и настройки ===================================================\n",
    "import os, warnings\n",
    "warnings.filterwarnings(\"ignore\")\n",
    "\n",
    "import numpy as np\n",
    "import pandas as pd\n",
    "\n",
    "# Настройка pandas для отображения полного текста\n",
    "pd.set_option('display.max_colwidth', None)\n",
    "\n",
    "from sklearn.base import BaseEstimator, TransformerMixin, clone\n",
    "from sklearn.pipeline import Pipeline\n",
    "from sklearn.compose import ColumnTransformer\n",
    "from sklearn.preprocessing import OneHotEncoder\n",
    "import lightgbm as lgb\n",
    "\n",
    "RANDOM_STATE = 42\n",
    "USE_GPU = False"
   ]
  },
  {
   "cell_type": "code",
   "execution_count": 3,
   "id": "3e160b2f",
   "metadata": {
    "execution": {
     "iopub.execute_input": "2025-09-16T11:00:32.969450Z",
     "iopub.status.busy": "2025-09-16T11:00:32.968408Z",
     "iopub.status.idle": "2025-09-16T11:00:36.361034Z",
     "shell.execute_reply": "2025-09-16T11:00:36.359869Z"
    },
    "papermill": {
     "duration": 3.398035,
     "end_time": "2025-09-16T11:00:36.362430",
     "exception": false,
     "start_time": "2025-09-16T11:00:32.964395",
     "status": "completed"
    },
    "tags": []
   },
   "outputs": [
    {
     "name": "stdout",
     "output_type": "stream",
     "text": [
      "train.shape: (750000, 18)\n",
      "test.shape : (250000, 17)\n",
      "\n",
      "Первые строки train:\n"
     ]
    },
    {
     "data": {
      "text/html": [
       "<div>\n",
       "<style scoped>\n",
       "    .dataframe tbody tr th:only-of-type {\n",
       "        vertical-align: middle;\n",
       "    }\n",
       "\n",
       "    .dataframe tbody tr th {\n",
       "        vertical-align: top;\n",
       "    }\n",
       "\n",
       "    .dataframe thead th {\n",
       "        text-align: right;\n",
       "    }\n",
       "</style>\n",
       "<table border=\"1\" class=\"dataframe\">\n",
       "  <thead>\n",
       "    <tr style=\"text-align: right;\">\n",
       "      <th></th>\n",
       "      <th>id</th>\n",
       "      <th>age</th>\n",
       "      <th>job</th>\n",
       "      <th>marital</th>\n",
       "      <th>education</th>\n",
       "      <th>default</th>\n",
       "      <th>balance</th>\n",
       "      <th>housing</th>\n",
       "      <th>loan</th>\n",
       "      <th>contact</th>\n",
       "      <th>day</th>\n",
       "      <th>month</th>\n",
       "      <th>duration</th>\n",
       "      <th>campaign</th>\n",
       "      <th>pdays</th>\n",
       "      <th>previous</th>\n",
       "      <th>poutcome</th>\n",
       "      <th>y</th>\n",
       "    </tr>\n",
       "  </thead>\n",
       "  <tbody>\n",
       "    <tr>\n",
       "      <th>0</th>\n",
       "      <td>0</td>\n",
       "      <td>42</td>\n",
       "      <td>technician</td>\n",
       "      <td>married</td>\n",
       "      <td>secondary</td>\n",
       "      <td>no</td>\n",
       "      <td>7</td>\n",
       "      <td>no</td>\n",
       "      <td>no</td>\n",
       "      <td>cellular</td>\n",
       "      <td>25</td>\n",
       "      <td>aug</td>\n",
       "      <td>117</td>\n",
       "      <td>3</td>\n",
       "      <td>-1</td>\n",
       "      <td>0</td>\n",
       "      <td>unknown</td>\n",
       "      <td>0</td>\n",
       "    </tr>\n",
       "    <tr>\n",
       "      <th>1</th>\n",
       "      <td>1</td>\n",
       "      <td>38</td>\n",
       "      <td>blue-collar</td>\n",
       "      <td>married</td>\n",
       "      <td>secondary</td>\n",
       "      <td>no</td>\n",
       "      <td>514</td>\n",
       "      <td>no</td>\n",
       "      <td>no</td>\n",
       "      <td>unknown</td>\n",
       "      <td>18</td>\n",
       "      <td>jun</td>\n",
       "      <td>185</td>\n",
       "      <td>1</td>\n",
       "      <td>-1</td>\n",
       "      <td>0</td>\n",
       "      <td>unknown</td>\n",
       "      <td>0</td>\n",
       "    </tr>\n",
       "    <tr>\n",
       "      <th>2</th>\n",
       "      <td>2</td>\n",
       "      <td>36</td>\n",
       "      <td>blue-collar</td>\n",
       "      <td>married</td>\n",
       "      <td>secondary</td>\n",
       "      <td>no</td>\n",
       "      <td>602</td>\n",
       "      <td>yes</td>\n",
       "      <td>no</td>\n",
       "      <td>unknown</td>\n",
       "      <td>14</td>\n",
       "      <td>may</td>\n",
       "      <td>111</td>\n",
       "      <td>2</td>\n",
       "      <td>-1</td>\n",
       "      <td>0</td>\n",
       "      <td>unknown</td>\n",
       "      <td>0</td>\n",
       "    </tr>\n",
       "    <tr>\n",
       "      <th>3</th>\n",
       "      <td>3</td>\n",
       "      <td>27</td>\n",
       "      <td>student</td>\n",
       "      <td>single</td>\n",
       "      <td>secondary</td>\n",
       "      <td>no</td>\n",
       "      <td>34</td>\n",
       "      <td>yes</td>\n",
       "      <td>no</td>\n",
       "      <td>unknown</td>\n",
       "      <td>28</td>\n",
       "      <td>may</td>\n",
       "      <td>10</td>\n",
       "      <td>2</td>\n",
       "      <td>-1</td>\n",
       "      <td>0</td>\n",
       "      <td>unknown</td>\n",
       "      <td>0</td>\n",
       "    </tr>\n",
       "    <tr>\n",
       "      <th>4</th>\n",
       "      <td>4</td>\n",
       "      <td>26</td>\n",
       "      <td>technician</td>\n",
       "      <td>married</td>\n",
       "      <td>secondary</td>\n",
       "      <td>no</td>\n",
       "      <td>889</td>\n",
       "      <td>yes</td>\n",
       "      <td>no</td>\n",
       "      <td>cellular</td>\n",
       "      <td>3</td>\n",
       "      <td>feb</td>\n",
       "      <td>902</td>\n",
       "      <td>1</td>\n",
       "      <td>-1</td>\n",
       "      <td>0</td>\n",
       "      <td>unknown</td>\n",
       "      <td>1</td>\n",
       "    </tr>\n",
       "  </tbody>\n",
       "</table>\n",
       "</div>"
      ],
      "text/plain": [
       "   id  age          job  marital  education default  balance housing loan  \\\n",
       "0   0   42   technician  married  secondary      no        7      no   no   \n",
       "1   1   38  blue-collar  married  secondary      no      514      no   no   \n",
       "2   2   36  blue-collar  married  secondary      no      602     yes   no   \n",
       "3   3   27      student   single  secondary      no       34     yes   no   \n",
       "4   4   26   technician  married  secondary      no      889     yes   no   \n",
       "\n",
       "    contact  day month  duration  campaign  pdays  previous poutcome  y  \n",
       "0  cellular   25   aug       117         3     -1         0  unknown  0  \n",
       "1   unknown   18   jun       185         1     -1         0  unknown  0  \n",
       "2   unknown   14   may       111         2     -1         0  unknown  0  \n",
       "3   unknown   28   may        10         2     -1         0  unknown  0  \n",
       "4  cellular    3   feb       902         1     -1         0  unknown  1  "
      ]
     },
     "metadata": {},
     "output_type": "display_data"
    },
    {
     "name": "stdout",
     "output_type": "stream",
     "text": [
      "<class 'pandas.core.frame.DataFrame'>\n",
      "RangeIndex: 750000 entries, 0 to 749999\n",
      "Data columns (total 18 columns):\n",
      " #   Column     Non-Null Count   Dtype \n",
      "---  ------     --------------   ----- \n",
      " 0   id         750000 non-null  int64 \n",
      " 1   age        750000 non-null  int64 \n",
      " 2   job        750000 non-null  object\n",
      " 3   marital    750000 non-null  object\n",
      " 4   education  750000 non-null  object\n",
      " 5   default    750000 non-null  object\n",
      " 6   balance    750000 non-null  int64 \n",
      " 7   housing    750000 non-null  object\n",
      " 8   loan       750000 non-null  object\n",
      " 9   contact    750000 non-null  object\n",
      " 10  day        750000 non-null  int64 \n",
      " 11  month      750000 non-null  object\n",
      " 12  duration   750000 non-null  int64 \n",
      " 13  campaign   750000 non-null  int64 \n",
      " 14  pdays      750000 non-null  int64 \n",
      " 15  previous   750000 non-null  int64 \n",
      " 16  poutcome   750000 non-null  object\n",
      " 17  y          750000 non-null  int64 \n",
      "dtypes: int64(9), object(9)\n",
      "memory usage: 103.0+ MB\n"
     ]
    },
    {
     "data": {
      "text/plain": [
       "None"
      ]
     },
     "metadata": {},
     "output_type": "display_data"
    }
   ],
   "source": [
    "# === Параметры окружения ====================================================\n",
    "TRAIN_PATH = \"/kaggle/input/playground-series-s5e8/train.csv\"\n",
    "TEST_PATH  = \"/kaggle/input/playground-series-s5e8/test.csv\"\n",
    "\n",
    "# Локально можно заменить на \"train.csv\" и \"test.csv\"\n",
    "if not os.path.exists(TRAIN_PATH):\n",
    "    TRAIN_PATH = \"train.csv\"\n",
    "if not os.path.exists(TEST_PATH):\n",
    "    TEST_PATH = \"test.csv\"\n",
    "\n",
    "# === Загрузка данных ========================================================\n",
    "train = pd.read_csv(TRAIN_PATH)\n",
    "test  = pd.read_csv(TEST_PATH)\n",
    "\n",
    "print(\"train.shape:\", train.shape)\n",
    "print(\"test.shape :\", test.shape)\n",
    "print(\"\\nПервые строки train:\")\n",
    "display(train.head())\n",
    "display(train.info())"
   ]
  },
  {
   "cell_type": "markdown",
   "id": "79e22fed",
   "metadata": {
    "papermill": {
     "duration": 0.003509,
     "end_time": "2025-09-16T11:00:36.369886",
     "exception": false,
     "start_time": "2025-09-16T11:00:36.366377",
     "status": "completed"
    },
    "tags": []
   },
   "source": [
    "## Обучение модели"
   ]
  },
  {
   "cell_type": "code",
   "execution_count": 4,
   "id": "eb7d6814",
   "metadata": {
    "execution": {
     "iopub.execute_input": "2025-09-16T11:00:36.378214Z",
     "iopub.status.busy": "2025-09-16T11:00:36.377894Z",
     "iopub.status.idle": "2025-09-16T11:00:36.547454Z",
     "shell.execute_reply": "2025-09-16T11:00:36.546440Z"
    },
    "papermill": {
     "duration": 0.175768,
     "end_time": "2025-09-16T11:00:36.549170",
     "exception": false,
     "start_time": "2025-09-16T11:00:36.373402",
     "status": "completed"
    },
    "tags": []
   },
   "outputs": [],
   "source": [
    "# ===== Разделим X, y (без id/previous удаление сделаем в препроцессоре) =====\n",
    "X_train = train.drop(columns=[\"y\"]).copy()\n",
    "y_train = train[\"y\"].astype(int).values"
   ]
  },
  {
   "cell_type": "code",
   "execution_count": 5,
   "id": "67ace562",
   "metadata": {
    "execution": {
     "iopub.execute_input": "2025-09-16T11:00:36.558209Z",
     "iopub.status.busy": "2025-09-16T11:00:36.557765Z",
     "iopub.status.idle": "2025-09-16T11:00:36.571904Z",
     "shell.execute_reply": "2025-09-16T11:00:36.571057Z"
    },
    "papermill": {
     "duration": 0.020247,
     "end_time": "2025-09-16T11:00:36.573317",
     "exception": false,
     "start_time": "2025-09-16T11:00:36.553070",
     "status": "completed"
    },
    "tags": []
   },
   "outputs": [],
   "source": [
    "class FeatureEngineeringTransformer(BaseEstimator, TransformerMixin):\n",
    "    \"\"\"\n",
    "    Инжиниринг признаков:\n",
    "    - balance_log_signed, duration_log\n",
    "    - duration_bin (квантильные бины)\n",
    "    - age_bin (фиксированные бины)\n",
    "    - campaign_cap = min(campaign, 6)\n",
    "    - month_sin/cos (месяц как 1..12)\n",
    "    - day_sin/cos  (день месяца 1..31)\n",
    "    \"\"\"\n",
    "    def __init__(self, duration_bins=5):\n",
    "        self.duration_bins = duration_bins\n",
    "        self.duration_edges_ = None\n",
    "        self._month_map = {\n",
    "            'jan':1,'feb':2,'mar':3,'apr':4,'may':5,'jun':6,\n",
    "            'jul':7,'aug':8,'sep':9,'oct':10,'nov':11,'dec':12\n",
    "        }\n",
    "\n",
    "    def fit(self, X, y=None):\n",
    "        X = X.copy()\n",
    "        if \"duration\" in X.columns:\n",
    "            self.duration_edges_ = np.unique(\n",
    "                np.quantile(X[\"duration\"].values, q=np.linspace(0, 1, self.duration_bins+1))\n",
    "            )\n",
    "            if len(self.duration_edges_) <= 2:\n",
    "                self.duration_edges_ = None\n",
    "        return self\n",
    "\n",
    "    def transform(self, X):\n",
    "        X = X.copy()\n",
    "        # balance_log_signed\n",
    "        if \"balance\" in X.columns:\n",
    "            X[\"balance_log_signed\"] = np.sign(X[\"balance\"]) * np.log1p(np.abs(X[\"balance\"]))\n",
    "        # duration_log + duration_bin\n",
    "        if \"duration\" in X.columns:\n",
    "            X[\"duration_log\"] = np.log1p(X[\"duration\"])\n",
    "            if self.duration_edges_ is not None and len(self.duration_edges_) > 2:\n",
    "                X[\"duration_bin\"] = pd.cut(\n",
    "                    X[\"duration\"], bins=self.duration_edges_,\n",
    "                    include_lowest=True, duplicates=\"drop\"\n",
    "                ).astype(str)\n",
    "            else:\n",
    "                X[\"duration_bin\"] = pd.qcut(X[\"duration\"], q=5, duplicates=\"drop\").astype(str)\n",
    "        # age_bin\n",
    "        if \"age\" in X.columns:\n",
    "            X[\"age_bin\"] = pd.cut(\n",
    "                X[\"age\"],\n",
    "                bins=[17, 25, 35, 45, 60, 120],\n",
    "                labels=[\"18-25\",\"26-35\",\"36-45\",\"46-60\",\"60+\"],\n",
    "                include_lowest=True\n",
    "            ).astype(str)\n",
    "        # campaign_cap\n",
    "        if \"campaign\" in X.columns:\n",
    "            X[\"campaign_cap\"] = np.minimum(X[\"campaign\"], 6)\n",
    "        # month_sin/cos\n",
    "        if \"month\" in X.columns:\n",
    "            mnum = pd.Series(X[\"month\"]).map(self._month_map).fillna(0).astype(int)\n",
    "            X[\"month_sin\"] = np.sin(2*np.pi * mnum / 12)\n",
    "            X[\"month_cos\"] = np.cos(2*np.pi * mnum / 12)\n",
    "        # day_sin/cos\n",
    "        if \"day\" in X.columns:\n",
    "            day_num = pd.to_numeric(X[\"day\"], errors=\"coerce\").fillna(0).astype(int)\n",
    "            X[\"day_sin\"] = np.sin(2*np.pi * day_num / 31)\n",
    "            X[\"day_cos\"] = np.cos(2*np.pi * day_num / 31)\n",
    "        return X\n",
    "\n",
    "\n",
    "class PdaysTransformer(BaseEstimator, TransformerMixin):\n",
    "    \"\"\"\n",
    "    - was_contacted = (pdays != -1).astype(int)\n",
    "    - pdays_pos     = clip(pdays, 0, None)\n",
    "    - drop 'pdays' и 'previous'\n",
    "    - приведение day/campaign к строке (категории)\n",
    "    \"\"\"\n",
    "    def __init__(self, cast_to_str_cols=(\"day\", \"campaign\")):\n",
    "        self.cast_to_str_cols = cast_to_str_cols\n",
    "\n",
    "    def fit(self, X, y=None):\n",
    "        return self\n",
    "\n",
    "    def transform(self, X):\n",
    "        X = X.copy()\n",
    "        if \"pdays\" in X.columns:\n",
    "            X[\"was_contacted\"] = (X[\"pdays\"] != -1).astype(int)\n",
    "            X[\"pdays_pos\"] = X[\"pdays\"].clip(lower=0)\n",
    "            X = X.drop(columns=[\"pdays\"])\n",
    "        if \"previous\" in X.columns:\n",
    "            X = X.drop(columns=[\"previous\"])\n",
    "        for c in self.cast_to_str_cols:\n",
    "            if c in X.columns:\n",
    "                X[c] = X[c].astype(str)\n",
    "        return X"
   ]
  },
  {
   "cell_type": "code",
   "execution_count": 6,
   "id": "76a3eaf8",
   "metadata": {
    "execution": {
     "iopub.execute_input": "2025-09-16T11:00:36.582338Z",
     "iopub.status.busy": "2025-09-16T11:00:36.581449Z",
     "iopub.status.idle": "2025-09-16T11:00:36.586532Z",
     "shell.execute_reply": "2025-09-16T11:00:36.585581Z"
    },
    "papermill": {
     "duration": 0.011084,
     "end_time": "2025-09-16T11:00:36.588116",
     "exception": false,
     "start_time": "2025-09-16T11:00:36.577032",
     "status": "completed"
    },
    "tags": []
   },
   "outputs": [],
   "source": [
    "# ===== Признаки =====\n",
    "cat_features = [\n",
    "    'job','marital','education','default','housing','loan',\n",
    "    'contact','month','poutcome','day','campaign',\n",
    "    'was_contacted','duration_bin','age_bin'\n",
    "]\n",
    "num_features = [\n",
    "    'age','balance','duration','pdays_pos',\n",
    "    'balance_log_signed','duration_log',\n",
    "    'campaign_cap','month_sin','month_cos','day_sin','day_cos'\n",
    "]"
   ]
  },
  {
   "cell_type": "code",
   "execution_count": 7,
   "id": "a0cfdbfa",
   "metadata": {
    "execution": {
     "iopub.execute_input": "2025-09-16T11:00:36.597469Z",
     "iopub.status.busy": "2025-09-16T11:00:36.597184Z",
     "iopub.status.idle": "2025-09-16T11:00:36.602160Z",
     "shell.execute_reply": "2025-09-16T11:00:36.601463Z"
    },
    "papermill": {
     "duration": 0.010882,
     "end_time": "2025-09-16T11:00:36.603660",
     "exception": false,
     "start_time": "2025-09-16T11:00:36.592778",
     "status": "completed"
    },
    "tags": []
   },
   "outputs": [],
   "source": [
    "# ===== Препроцессор =====\n",
    "preprocess = Pipeline(steps=[\n",
    "    (\"fe\", FeatureEngineeringTransformer(duration_bins=5)),\n",
    "    (\"pdays_block\", PdaysTransformer(cast_to_str_cols=(\"day\",\"campaign\"))),\n",
    "    (\"ct\", ColumnTransformer(\n",
    "        transformers=[\n",
    "            (\"num\", \"passthrough\", num_features),\n",
    "            (\"cat\", OneHotEncoder(handle_unknown=\"ignore\", sparse_output=True), cat_features),\n",
    "        ],\n",
    "        remainder=\"drop\"\n",
    "    ))\n",
    "])"
   ]
  },
  {
   "cell_type": "code",
   "execution_count": 8,
   "id": "fe727bdb",
   "metadata": {
    "execution": {
     "iopub.execute_input": "2025-09-16T11:00:36.611952Z",
     "iopub.status.busy": "2025-09-16T11:00:36.611622Z",
     "iopub.status.idle": "2025-09-16T11:00:36.616633Z",
     "shell.execute_reply": "2025-09-16T11:00:36.615972Z"
    },
    "papermill": {
     "duration": 0.010738,
     "end_time": "2025-09-16T11:00:36.618054",
     "exception": false,
     "start_time": "2025-09-16T11:00:36.607316",
     "status": "completed"
    },
    "tags": []
   },
   "outputs": [],
   "source": [
    "# ---------- Лучшие гиперпараметры LGBM ----------\n",
    "best_params = {\n",
    "    'colsample_bytree': 0.6351472444970627,\n",
    "    'learning_rate': 0.019717734140941426,\n",
    "    'max_bin': 255,               # GPU совместимо\n",
    "    'max_depth': -1,\n",
    "    'min_child_samples': 26,\n",
    "    'min_split_gain': 0.023339212828336266,\n",
    "    'n_estimators': 1710,\n",
    "    'num_leaves': 182,\n",
    "    'reg_alpha': 1.2122037621116772,\n",
    "    'reg_lambda': 3.971447249832312,\n",
    "    'scale_pos_weight': 1.0,\n",
    "    'subsample': 0.9718116576991304,\n",
    "    'random_state': RANDOM_STATE,\n",
    "    'verbosity': -1,\n",
    "}\n",
    "if USE_GPU:\n",
    "    best_params['device_type'] = 'gpu'"
   ]
  },
  {
   "cell_type": "code",
   "execution_count": 9,
   "id": "3c8d815b",
   "metadata": {
    "execution": {
     "iopub.execute_input": "2025-09-16T11:00:36.627072Z",
     "iopub.status.busy": "2025-09-16T11:00:36.626318Z",
     "iopub.status.idle": "2025-09-16T11:02:39.300588Z",
     "shell.execute_reply": "2025-09-16T11:02:39.299759Z"
    },
    "papermill": {
     "duration": 122.683943,
     "end_time": "2025-09-16T11:02:39.305831",
     "exception": false,
     "start_time": "2025-09-16T11:00:36.621888",
     "status": "completed"
    },
    "tags": []
   },
   "outputs": [
    {
     "data": {
      "text/html": [
       "<style>#sk-container-id-1 {color: black;background-color: white;}#sk-container-id-1 pre{padding: 0;}#sk-container-id-1 div.sk-toggleable {background-color: white;}#sk-container-id-1 label.sk-toggleable__label {cursor: pointer;display: block;width: 100%;margin-bottom: 0;padding: 0.3em;box-sizing: border-box;text-align: center;}#sk-container-id-1 label.sk-toggleable__label-arrow:before {content: \"▸\";float: left;margin-right: 0.25em;color: #696969;}#sk-container-id-1 label.sk-toggleable__label-arrow:hover:before {color: black;}#sk-container-id-1 div.sk-estimator:hover label.sk-toggleable__label-arrow:before {color: black;}#sk-container-id-1 div.sk-toggleable__content {max-height: 0;max-width: 0;overflow: hidden;text-align: left;background-color: #f0f8ff;}#sk-container-id-1 div.sk-toggleable__content pre {margin: 0.2em;color: black;border-radius: 0.25em;background-color: #f0f8ff;}#sk-container-id-1 input.sk-toggleable__control:checked~div.sk-toggleable__content {max-height: 200px;max-width: 100%;overflow: auto;}#sk-container-id-1 input.sk-toggleable__control:checked~label.sk-toggleable__label-arrow:before {content: \"▾\";}#sk-container-id-1 div.sk-estimator input.sk-toggleable__control:checked~label.sk-toggleable__label {background-color: #d4ebff;}#sk-container-id-1 div.sk-label input.sk-toggleable__control:checked~label.sk-toggleable__label {background-color: #d4ebff;}#sk-container-id-1 input.sk-hidden--visually {border: 0;clip: rect(1px 1px 1px 1px);clip: rect(1px, 1px, 1px, 1px);height: 1px;margin: -1px;overflow: hidden;padding: 0;position: absolute;width: 1px;}#sk-container-id-1 div.sk-estimator {font-family: monospace;background-color: #f0f8ff;border: 1px dotted black;border-radius: 0.25em;box-sizing: border-box;margin-bottom: 0.5em;}#sk-container-id-1 div.sk-estimator:hover {background-color: #d4ebff;}#sk-container-id-1 div.sk-parallel-item::after {content: \"\";width: 100%;border-bottom: 1px solid gray;flex-grow: 1;}#sk-container-id-1 div.sk-label:hover label.sk-toggleable__label {background-color: #d4ebff;}#sk-container-id-1 div.sk-serial::before {content: \"\";position: absolute;border-left: 1px solid gray;box-sizing: border-box;top: 0;bottom: 0;left: 50%;z-index: 0;}#sk-container-id-1 div.sk-serial {display: flex;flex-direction: column;align-items: center;background-color: white;padding-right: 0.2em;padding-left: 0.2em;position: relative;}#sk-container-id-1 div.sk-item {position: relative;z-index: 1;}#sk-container-id-1 div.sk-parallel {display: flex;align-items: stretch;justify-content: center;background-color: white;position: relative;}#sk-container-id-1 div.sk-item::before, #sk-container-id-1 div.sk-parallel-item::before {content: \"\";position: absolute;border-left: 1px solid gray;box-sizing: border-box;top: 0;bottom: 0;left: 50%;z-index: -1;}#sk-container-id-1 div.sk-parallel-item {display: flex;flex-direction: column;z-index: 1;position: relative;background-color: white;}#sk-container-id-1 div.sk-parallel-item:first-child::after {align-self: flex-end;width: 50%;}#sk-container-id-1 div.sk-parallel-item:last-child::after {align-self: flex-start;width: 50%;}#sk-container-id-1 div.sk-parallel-item:only-child::after {width: 0;}#sk-container-id-1 div.sk-dashed-wrapped {border: 1px dashed gray;margin: 0 0.4em 0.5em 0.4em;box-sizing: border-box;padding-bottom: 0.4em;background-color: white;}#sk-container-id-1 div.sk-label label {font-family: monospace;font-weight: bold;display: inline-block;line-height: 1.2em;}#sk-container-id-1 div.sk-label-container {text-align: center;}#sk-container-id-1 div.sk-container {/* jupyter's `normalize.less` sets `[hidden] { display: none; }` but bootstrap.min.css set `[hidden] { display: none !important; }` so we also need the `!important` here to be able to override the default hidden behavior on the sphinx rendered scikit-learn.org. See: https://github.com/scikit-learn/scikit-learn/issues/21755 */display: inline-block !important;position: relative;}#sk-container-id-1 div.sk-text-repr-fallback {display: none;}</style><div id=\"sk-container-id-1\" class=\"sk-top-container\"><div class=\"sk-text-repr-fallback\"><pre>Pipeline(steps=[(&#x27;prep&#x27;,\n",
       "                 Pipeline(steps=[(&#x27;fe&#x27;, FeatureEngineeringTransformer()),\n",
       "                                 (&#x27;pdays_block&#x27;, PdaysTransformer()),\n",
       "                                 (&#x27;ct&#x27;,\n",
       "                                  ColumnTransformer(transformers=[(&#x27;num&#x27;,\n",
       "                                                                   &#x27;passthrough&#x27;,\n",
       "                                                                   [&#x27;age&#x27;,\n",
       "                                                                    &#x27;balance&#x27;,\n",
       "                                                                    &#x27;duration&#x27;,\n",
       "                                                                    &#x27;pdays_pos&#x27;,\n",
       "                                                                    &#x27;balance_log_signed&#x27;,\n",
       "                                                                    &#x27;duration_log&#x27;,\n",
       "                                                                    &#x27;campaign_cap&#x27;,\n",
       "                                                                    &#x27;month_sin&#x27;,\n",
       "                                                                    &#x27;month_cos&#x27;,\n",
       "                                                                    &#x27;day_sin&#x27;,\n",
       "                                                                    &#x27;day_cos&#x27;]),\n",
       "                                                                  (&#x27;cat&#x27;,\n",
       "                                                                   OneHotEncoder(handle_unknown=&#x27;ign...\n",
       "                (&#x27;clf&#x27;,\n",
       "                 LGBMClassifier(colsample_bytree=0.6351472444970627,\n",
       "                                learning_rate=0.019717734140941426, max_bin=255,\n",
       "                                min_child_samples=26,\n",
       "                                min_split_gain=0.023339212828336266,\n",
       "                                n_estimators=1710, num_leaves=182,\n",
       "                                objective=&#x27;binary&#x27;, random_state=42,\n",
       "                                reg_alpha=1.2122037621116772,\n",
       "                                reg_lambda=3.971447249832312,\n",
       "                                scale_pos_weight=1.0,\n",
       "                                subsample=0.9718116576991304, verbosity=-1))])</pre><b>In a Jupyter environment, please rerun this cell to show the HTML representation or trust the notebook. <br />On GitHub, the HTML representation is unable to render, please try loading this page with nbviewer.org.</b></div><div class=\"sk-container\" hidden><div class=\"sk-item sk-dashed-wrapped\"><div class=\"sk-label-container\"><div class=\"sk-label sk-toggleable\"><input class=\"sk-toggleable__control sk-hidden--visually\" id=\"sk-estimator-id-1\" type=\"checkbox\" ><label for=\"sk-estimator-id-1\" class=\"sk-toggleable__label sk-toggleable__label-arrow\">Pipeline</label><div class=\"sk-toggleable__content\"><pre>Pipeline(steps=[(&#x27;prep&#x27;,\n",
       "                 Pipeline(steps=[(&#x27;fe&#x27;, FeatureEngineeringTransformer()),\n",
       "                                 (&#x27;pdays_block&#x27;, PdaysTransformer()),\n",
       "                                 (&#x27;ct&#x27;,\n",
       "                                  ColumnTransformer(transformers=[(&#x27;num&#x27;,\n",
       "                                                                   &#x27;passthrough&#x27;,\n",
       "                                                                   [&#x27;age&#x27;,\n",
       "                                                                    &#x27;balance&#x27;,\n",
       "                                                                    &#x27;duration&#x27;,\n",
       "                                                                    &#x27;pdays_pos&#x27;,\n",
       "                                                                    &#x27;balance_log_signed&#x27;,\n",
       "                                                                    &#x27;duration_log&#x27;,\n",
       "                                                                    &#x27;campaign_cap&#x27;,\n",
       "                                                                    &#x27;month_sin&#x27;,\n",
       "                                                                    &#x27;month_cos&#x27;,\n",
       "                                                                    &#x27;day_sin&#x27;,\n",
       "                                                                    &#x27;day_cos&#x27;]),\n",
       "                                                                  (&#x27;cat&#x27;,\n",
       "                                                                   OneHotEncoder(handle_unknown=&#x27;ign...\n",
       "                (&#x27;clf&#x27;,\n",
       "                 LGBMClassifier(colsample_bytree=0.6351472444970627,\n",
       "                                learning_rate=0.019717734140941426, max_bin=255,\n",
       "                                min_child_samples=26,\n",
       "                                min_split_gain=0.023339212828336266,\n",
       "                                n_estimators=1710, num_leaves=182,\n",
       "                                objective=&#x27;binary&#x27;, random_state=42,\n",
       "                                reg_alpha=1.2122037621116772,\n",
       "                                reg_lambda=3.971447249832312,\n",
       "                                scale_pos_weight=1.0,\n",
       "                                subsample=0.9718116576991304, verbosity=-1))])</pre></div></div></div><div class=\"sk-serial\"><div class=\"sk-item\"><div class=\"sk-label-container\"><div class=\"sk-label sk-toggleable\"><input class=\"sk-toggleable__control sk-hidden--visually\" id=\"sk-estimator-id-2\" type=\"checkbox\" ><label for=\"sk-estimator-id-2\" class=\"sk-toggleable__label sk-toggleable__label-arrow\">prep: Pipeline</label><div class=\"sk-toggleable__content\"><pre>Pipeline(steps=[(&#x27;fe&#x27;, FeatureEngineeringTransformer()),\n",
       "                (&#x27;pdays_block&#x27;, PdaysTransformer()),\n",
       "                (&#x27;ct&#x27;,\n",
       "                 ColumnTransformer(transformers=[(&#x27;num&#x27;, &#x27;passthrough&#x27;,\n",
       "                                                  [&#x27;age&#x27;, &#x27;balance&#x27;, &#x27;duration&#x27;,\n",
       "                                                   &#x27;pdays_pos&#x27;,\n",
       "                                                   &#x27;balance_log_signed&#x27;,\n",
       "                                                   &#x27;duration_log&#x27;,\n",
       "                                                   &#x27;campaign_cap&#x27;, &#x27;month_sin&#x27;,\n",
       "                                                   &#x27;month_cos&#x27;, &#x27;day_sin&#x27;,\n",
       "                                                   &#x27;day_cos&#x27;]),\n",
       "                                                 (&#x27;cat&#x27;,\n",
       "                                                  OneHotEncoder(handle_unknown=&#x27;ignore&#x27;),\n",
       "                                                  [&#x27;job&#x27;, &#x27;marital&#x27;,\n",
       "                                                   &#x27;education&#x27;, &#x27;default&#x27;,\n",
       "                                                   &#x27;housing&#x27;, &#x27;loan&#x27;, &#x27;contact&#x27;,\n",
       "                                                   &#x27;month&#x27;, &#x27;poutcome&#x27;, &#x27;day&#x27;,\n",
       "                                                   &#x27;campaign&#x27;, &#x27;was_contacted&#x27;,\n",
       "                                                   &#x27;duration_bin&#x27;,\n",
       "                                                   &#x27;age_bin&#x27;])]))])</pre></div></div></div><div class=\"sk-serial\"><div class=\"sk-item\"><div class=\"sk-estimator sk-toggleable\"><input class=\"sk-toggleable__control sk-hidden--visually\" id=\"sk-estimator-id-3\" type=\"checkbox\" ><label for=\"sk-estimator-id-3\" class=\"sk-toggleable__label sk-toggleable__label-arrow\">FeatureEngineeringTransformer</label><div class=\"sk-toggleable__content\"><pre>FeatureEngineeringTransformer()</pre></div></div></div><div class=\"sk-item\"><div class=\"sk-estimator sk-toggleable\"><input class=\"sk-toggleable__control sk-hidden--visually\" id=\"sk-estimator-id-4\" type=\"checkbox\" ><label for=\"sk-estimator-id-4\" class=\"sk-toggleable__label sk-toggleable__label-arrow\">PdaysTransformer</label><div class=\"sk-toggleable__content\"><pre>PdaysTransformer()</pre></div></div></div><div class=\"sk-item sk-dashed-wrapped\"><div class=\"sk-label-container\"><div class=\"sk-label sk-toggleable\"><input class=\"sk-toggleable__control sk-hidden--visually\" id=\"sk-estimator-id-5\" type=\"checkbox\" ><label for=\"sk-estimator-id-5\" class=\"sk-toggleable__label sk-toggleable__label-arrow\">ct: ColumnTransformer</label><div class=\"sk-toggleable__content\"><pre>ColumnTransformer(transformers=[(&#x27;num&#x27;, &#x27;passthrough&#x27;,\n",
       "                                 [&#x27;age&#x27;, &#x27;balance&#x27;, &#x27;duration&#x27;, &#x27;pdays_pos&#x27;,\n",
       "                                  &#x27;balance_log_signed&#x27;, &#x27;duration_log&#x27;,\n",
       "                                  &#x27;campaign_cap&#x27;, &#x27;month_sin&#x27;, &#x27;month_cos&#x27;,\n",
       "                                  &#x27;day_sin&#x27;, &#x27;day_cos&#x27;]),\n",
       "                                (&#x27;cat&#x27;, OneHotEncoder(handle_unknown=&#x27;ignore&#x27;),\n",
       "                                 [&#x27;job&#x27;, &#x27;marital&#x27;, &#x27;education&#x27;, &#x27;default&#x27;,\n",
       "                                  &#x27;housing&#x27;, &#x27;loan&#x27;, &#x27;contact&#x27;, &#x27;month&#x27;,\n",
       "                                  &#x27;poutcome&#x27;, &#x27;day&#x27;, &#x27;campaign&#x27;,\n",
       "                                  &#x27;was_contacted&#x27;, &#x27;duration_bin&#x27;,\n",
       "                                  &#x27;age_bin&#x27;])])</pre></div></div></div><div class=\"sk-parallel\"><div class=\"sk-parallel-item\"><div class=\"sk-item\"><div class=\"sk-label-container\"><div class=\"sk-label sk-toggleable\"><input class=\"sk-toggleable__control sk-hidden--visually\" id=\"sk-estimator-id-6\" type=\"checkbox\" ><label for=\"sk-estimator-id-6\" class=\"sk-toggleable__label sk-toggleable__label-arrow\">num</label><div class=\"sk-toggleable__content\"><pre>[&#x27;age&#x27;, &#x27;balance&#x27;, &#x27;duration&#x27;, &#x27;pdays_pos&#x27;, &#x27;balance_log_signed&#x27;, &#x27;duration_log&#x27;, &#x27;campaign_cap&#x27;, &#x27;month_sin&#x27;, &#x27;month_cos&#x27;, &#x27;day_sin&#x27;, &#x27;day_cos&#x27;]</pre></div></div></div><div class=\"sk-serial\"><div class=\"sk-item\"><div class=\"sk-estimator sk-toggleable\"><input class=\"sk-toggleable__control sk-hidden--visually\" id=\"sk-estimator-id-7\" type=\"checkbox\" ><label for=\"sk-estimator-id-7\" class=\"sk-toggleable__label sk-toggleable__label-arrow\">passthrough</label><div class=\"sk-toggleable__content\"><pre>passthrough</pre></div></div></div></div></div></div><div class=\"sk-parallel-item\"><div class=\"sk-item\"><div class=\"sk-label-container\"><div class=\"sk-label sk-toggleable\"><input class=\"sk-toggleable__control sk-hidden--visually\" id=\"sk-estimator-id-8\" type=\"checkbox\" ><label for=\"sk-estimator-id-8\" class=\"sk-toggleable__label sk-toggleable__label-arrow\">cat</label><div class=\"sk-toggleable__content\"><pre>[&#x27;job&#x27;, &#x27;marital&#x27;, &#x27;education&#x27;, &#x27;default&#x27;, &#x27;housing&#x27;, &#x27;loan&#x27;, &#x27;contact&#x27;, &#x27;month&#x27;, &#x27;poutcome&#x27;, &#x27;day&#x27;, &#x27;campaign&#x27;, &#x27;was_contacted&#x27;, &#x27;duration_bin&#x27;, &#x27;age_bin&#x27;]</pre></div></div></div><div class=\"sk-serial\"><div class=\"sk-item\"><div class=\"sk-estimator sk-toggleable\"><input class=\"sk-toggleable__control sk-hidden--visually\" id=\"sk-estimator-id-9\" type=\"checkbox\" ><label for=\"sk-estimator-id-9\" class=\"sk-toggleable__label sk-toggleable__label-arrow\">OneHotEncoder</label><div class=\"sk-toggleable__content\"><pre>OneHotEncoder(handle_unknown=&#x27;ignore&#x27;)</pre></div></div></div></div></div></div></div></div></div></div><div class=\"sk-item\"><div class=\"sk-estimator sk-toggleable\"><input class=\"sk-toggleable__control sk-hidden--visually\" id=\"sk-estimator-id-10\" type=\"checkbox\" ><label for=\"sk-estimator-id-10\" class=\"sk-toggleable__label sk-toggleable__label-arrow\">LGBMClassifier</label><div class=\"sk-toggleable__content\"><pre>LGBMClassifier(colsample_bytree=0.6351472444970627,\n",
       "               learning_rate=0.019717734140941426, max_bin=255,\n",
       "               min_child_samples=26, min_split_gain=0.023339212828336266,\n",
       "               n_estimators=1710, num_leaves=182, objective=&#x27;binary&#x27;,\n",
       "               random_state=42, reg_alpha=1.2122037621116772,\n",
       "               reg_lambda=3.971447249832312, scale_pos_weight=1.0,\n",
       "               subsample=0.9718116576991304, verbosity=-1)</pre></div></div></div></div></div></div></div>"
      ],
      "text/plain": [
       "Pipeline(steps=[('prep',\n",
       "                 Pipeline(steps=[('fe', FeatureEngineeringTransformer()),\n",
       "                                 ('pdays_block', PdaysTransformer()),\n",
       "                                 ('ct',\n",
       "                                  ColumnTransformer(transformers=[('num',\n",
       "                                                                   'passthrough',\n",
       "                                                                   ['age',\n",
       "                                                                    'balance',\n",
       "                                                                    'duration',\n",
       "                                                                    'pdays_pos',\n",
       "                                                                    'balance_log_signed',\n",
       "                                                                    'duration_log',\n",
       "                                                                    'campaign_cap',\n",
       "                                                                    'month_sin',\n",
       "                                                                    'month_cos',\n",
       "                                                                    'day_sin',\n",
       "                                                                    'day_cos']),\n",
       "                                                                  ('cat',\n",
       "                                                                   OneHotEncoder(handle_unknown='ign...\n",
       "                ('clf',\n",
       "                 LGBMClassifier(colsample_bytree=0.6351472444970627,\n",
       "                                learning_rate=0.019717734140941426, max_bin=255,\n",
       "                                min_child_samples=26,\n",
       "                                min_split_gain=0.023339212828336266,\n",
       "                                n_estimators=1710, num_leaves=182,\n",
       "                                objective='binary', random_state=42,\n",
       "                                reg_alpha=1.2122037621116772,\n",
       "                                reg_lambda=3.971447249832312,\n",
       "                                scale_pos_weight=1.0,\n",
       "                                subsample=0.9718116576991304, verbosity=-1))])"
      ]
     },
     "execution_count": 9,
     "metadata": {},
     "output_type": "execute_result"
    }
   ],
   "source": [
    "# ---------- Пайплайн и обучение ----------\n",
    "pipe_submit = Pipeline(steps=[\n",
    "    (\"prep\", preprocess),\n",
    "    (\"clf\", lgb.LGBMClassifier(objective=\"binary\", **best_params))\n",
    "])\n",
    "\n",
    "pipe_submit.fit(X_train, y_train)"
   ]
  },
  {
   "cell_type": "code",
   "execution_count": 10,
   "id": "d2afd816",
   "metadata": {
    "execution": {
     "iopub.execute_input": "2025-09-16T11:02:39.315438Z",
     "iopub.status.busy": "2025-09-16T11:02:39.315129Z",
     "iopub.status.idle": "2025-09-16T11:03:24.356683Z",
     "shell.execute_reply": "2025-09-16T11:03:24.355768Z"
    },
    "papermill": {
     "duration": 45.051149,
     "end_time": "2025-09-16T11:03:24.361277",
     "exception": false,
     "start_time": "2025-09-16T11:02:39.310128",
     "status": "completed"
    },
    "tags": []
   },
   "outputs": [
    {
     "name": "stdout",
     "output_type": "stream",
     "text": [
      "Saved: submission.csv\n"
     ]
    }
   ],
   "source": [
    "# ---------- Предсказание и сабмит ----------\n",
    "test_ids = test[\"id\"].copy()\n",
    "proba = pipe_submit.predict_proba(test)[:, 1]\n",
    "\n",
    "submission = pd.DataFrame({\"id\": test_ids, \"y\": proba})\n",
    "submission.to_csv(\"submission.csv\", index=False)\n",
    "print(\"Saved: submission.csv\")"
   ]
  }
 ],
 "metadata": {
  "kaggle": {
   "accelerator": "none",
   "dataSources": [
    {
     "databundleVersionId": 12937777,
     "sourceId": 91719,
     "sourceType": "competition"
    }
   ],
   "dockerImageVersionId": 31089,
   "isGpuEnabled": false,
   "isInternetEnabled": true,
   "language": "python",
   "sourceType": "notebook"
  },
  "kernelspec": {
   "display_name": "Python 3 (ipykernel)",
   "language": "python",
   "name": "python3"
  },
  "language_info": {
   "codemirror_mode": {
    "name": "ipython",
    "version": 3
   },
   "file_extension": ".py",
   "mimetype": "text/x-python",
   "name": "python",
   "nbconvert_exporter": "python",
   "pygments_lexer": "ipython3",
   "version": "3.9.18"
  },
  "papermill": {
   "default_parameters": {},
   "duration": 186.999698,
   "end_time": "2025-09-16T11:03:25.387531",
   "environment_variables": {},
   "exception": null,
   "input_path": "__notebook__.ipynb",
   "output_path": "__notebook__.ipynb",
   "parameters": {},
   "start_time": "2025-09-16T11:00:18.387833",
   "version": "2.6.0"
  },
  "toc": {
   "base_numbering": 1,
   "nav_menu": {},
   "number_sections": true,
   "sideBar": true,
   "skip_h1_title": true,
   "title_cell": "Table of Contents",
   "title_sidebar": "Contents",
   "toc_cell": true,
   "toc_position": {},
   "toc_section_display": true,
   "toc_window_display": false
  }
 },
 "nbformat": 4,
 "nbformat_minor": 5
}
